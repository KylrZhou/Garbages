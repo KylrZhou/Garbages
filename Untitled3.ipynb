{
 "cells": [
  {
   "cell_type": "code",
   "execution_count": 1,
   "id": "5dfd3968-36b2-44de-a3be-f71f86644ed0",
   "metadata": {},
   "outputs": [],
   "source": [
    "def info(next, prob, reward, visit):\n",
    "    return { 'next': next, 'prob': prob,'reward': reward, 'calc':[], 'visit':visit}"
   ]
  },
  {
   "cell_type": "code",
   "execution_count": 2,
   "id": "ddaa2e02-52a4-40ed-a0cb-70949e08a91e",
   "metadata": {},
   "outputs": [],
   "source": [
    "node=[]\n",
    "node.append(info([1,4], [0.8,0.2], [2,1], [0,0]))\n",
    "node.append(info([2,4], [0.9,0.1], [-5,1], [0,0]))\n",
    "node.append(info([3,4,5], [0.4,0.2,0.4], [100,2,5], [0,0,0]))\n",
    "node.append(info([], [], [], []))\n",
    "node.append(info([1,4], [0.4,0.6], [1,-3], [0,0]))\n",
    "node.append(info([0,5], [0.1,0.9], [1,-10], [0,0]))"
   ]
  },
  {
   "cell_type": "code",
   "execution_count": 3,
   "id": "f8938c51-f130-4563-bfa5-6ff0445972cf",
   "metadata": {},
   "outputs": [
    {
     "name": "stdout",
     "output_type": "stream",
     "text": [
      "{'next': [1, 4], 'prob': [0.8, 0.2], 'reward': [2, 1], 'calc': [], 'visit': [0, 0]}\n",
      "{'next': [2, 4], 'prob': [0.9, 0.1], 'reward': [-5, 1], 'calc': [], 'visit': [0, 0]}\n",
      "{'next': [3, 4, 5], 'prob': [0.4, 0.2, 0.4], 'reward': [100, 2, 5], 'calc': [], 'visit': [0, 0, 0]}\n",
      "{'next': [], 'prob': [], 'reward': [], 'calc': [], 'visit': []}\n",
      "{'next': [1, 4], 'prob': [0.4, 0.6], 'reward': [1, -3], 'calc': [], 'visit': [0, 0]}\n",
      "{'next': [0, 5], 'prob': [0.1, 0.9], 'reward': [1, -10], 'calc': [], 'visit': [0, 0]}\n"
     ]
    }
   ],
   "source": [
    "for i in range(6):\n",
    "    print(node[i])"
   ]
  },
  {
   "cell_type": "code",
   "execution_count": 4,
   "id": "f2cdb2fd-c46e-4d49-8535-f26318e2b321",
   "metadata": {},
   "outputs": [],
   "source": [
    "e = []\n",
    "reward=[]\n",
    "decline = 0.9\n",
    "for i in range(6):\n",
    "    reward.append(0)"
   ]
  },
  {
   "cell_type": "code",
   "execution_count": 5,
   "id": "1c10094c-86a6-4edf-879d-6f3c205556cb",
   "metadata": {},
   "outputs": [],
   "source": [
    "def recursive_func(current, gamma):\n",
    "    next = node[current]['next']\n",
    "    print(f\"current:{current} next:{next}\")\n",
    "    flag = None\n",
    "    current_val = reward[current]\n",
    "    for i in range(len(next)):\n",
    "        if node[next[i]]['visit'][i] == 0:\n",
    "            node[next[i]]['visit'][i] = 1\n",
    "            tmp = recursive_func(next[i], gamma*decline)\n",
    "            print(f\"    recursive:{i} val:{tmp}\")\n",
    "            if tmp > current_val:\n",
    "                current_val = tmp\n",
    "                flag = i\n",
    "    if flag is not None:\n",
    "        print(f\"set route: {flag}\")\n",
    "        reward[current] = current_val\n",
    "    return reward[current]"
   ]
  },
  {
   "cell_type": "code",
   "execution_count": 6,
   "id": "081371f2-5c1e-4e94-9725-7401fe86962f",
   "metadata": {},
   "outputs": [
    {
     "name": "stdout",
     "output_type": "stream",
     "text": [
      "current:0 next:[1, 4]\n",
      "current:1 next:[2, 4]\n",
      "current:2 next:[3, 4, 5]\n"
     ]
    },
    {
     "ename": "IndexError",
     "evalue": "list index out of range",
     "output_type": "error",
     "traceback": [
      "\u001b[1;31m---------------------------------------------------------------------------\u001b[0m",
      "\u001b[1;31mIndexError\u001b[0m                                Traceback (most recent call last)",
      "Cell \u001b[1;32mIn[6], line 1\u001b[0m\n\u001b[1;32m----> 1\u001b[0m \u001b[43mrecursive_func\u001b[49m\u001b[43m(\u001b[49m\u001b[38;5;241;43m0\u001b[39;49m\u001b[43m,\u001b[49m\u001b[38;5;241;43m1\u001b[39;49m\u001b[43m)\u001b[49m\n",
      "Cell \u001b[1;32mIn[5], line 9\u001b[0m, in \u001b[0;36mrecursive_func\u001b[1;34m(current, gamma)\u001b[0m\n\u001b[0;32m      7\u001b[0m \u001b[38;5;28;01mif\u001b[39;00m node[\u001b[38;5;28mnext\u001b[39m[i]][\u001b[38;5;124m'\u001b[39m\u001b[38;5;124mvisit\u001b[39m\u001b[38;5;124m'\u001b[39m][i] \u001b[38;5;241m==\u001b[39m \u001b[38;5;241m0\u001b[39m:\n\u001b[0;32m      8\u001b[0m     node[\u001b[38;5;28mnext\u001b[39m[i]][\u001b[38;5;124m'\u001b[39m\u001b[38;5;124mvisit\u001b[39m\u001b[38;5;124m'\u001b[39m][i] \u001b[38;5;241m=\u001b[39m \u001b[38;5;241m1\u001b[39m\n\u001b[1;32m----> 9\u001b[0m     tmp \u001b[38;5;241m=\u001b[39m \u001b[43mrecursive_func\u001b[49m\u001b[43m(\u001b[49m\u001b[38;5;28;43mnext\u001b[39;49m\u001b[43m[\u001b[49m\u001b[43mi\u001b[49m\u001b[43m]\u001b[49m\u001b[43m,\u001b[49m\u001b[43m \u001b[49m\u001b[43mgamma\u001b[49m\u001b[38;5;241;43m*\u001b[39;49m\u001b[43mdecline\u001b[49m\u001b[43m)\u001b[49m\n\u001b[0;32m     10\u001b[0m     \u001b[38;5;28mprint\u001b[39m(\u001b[38;5;124mf\u001b[39m\u001b[38;5;124m\"\u001b[39m\u001b[38;5;124m    recursive:\u001b[39m\u001b[38;5;132;01m{\u001b[39;00mi\u001b[38;5;132;01m}\u001b[39;00m\u001b[38;5;124m val:\u001b[39m\u001b[38;5;132;01m{\u001b[39;00mtmp\u001b[38;5;132;01m}\u001b[39;00m\u001b[38;5;124m\"\u001b[39m)\n\u001b[0;32m     11\u001b[0m     \u001b[38;5;28;01mif\u001b[39;00m tmp \u001b[38;5;241m>\u001b[39m current_val:\n",
      "Cell \u001b[1;32mIn[5], line 9\u001b[0m, in \u001b[0;36mrecursive_func\u001b[1;34m(current, gamma)\u001b[0m\n\u001b[0;32m      7\u001b[0m \u001b[38;5;28;01mif\u001b[39;00m node[\u001b[38;5;28mnext\u001b[39m[i]][\u001b[38;5;124m'\u001b[39m\u001b[38;5;124mvisit\u001b[39m\u001b[38;5;124m'\u001b[39m][i] \u001b[38;5;241m==\u001b[39m \u001b[38;5;241m0\u001b[39m:\n\u001b[0;32m      8\u001b[0m     node[\u001b[38;5;28mnext\u001b[39m[i]][\u001b[38;5;124m'\u001b[39m\u001b[38;5;124mvisit\u001b[39m\u001b[38;5;124m'\u001b[39m][i] \u001b[38;5;241m=\u001b[39m \u001b[38;5;241m1\u001b[39m\n\u001b[1;32m----> 9\u001b[0m     tmp \u001b[38;5;241m=\u001b[39m \u001b[43mrecursive_func\u001b[49m\u001b[43m(\u001b[49m\u001b[38;5;28;43mnext\u001b[39;49m\u001b[43m[\u001b[49m\u001b[43mi\u001b[49m\u001b[43m]\u001b[49m\u001b[43m,\u001b[49m\u001b[43m \u001b[49m\u001b[43mgamma\u001b[49m\u001b[38;5;241;43m*\u001b[39;49m\u001b[43mdecline\u001b[49m\u001b[43m)\u001b[49m\n\u001b[0;32m     10\u001b[0m     \u001b[38;5;28mprint\u001b[39m(\u001b[38;5;124mf\u001b[39m\u001b[38;5;124m\"\u001b[39m\u001b[38;5;124m    recursive:\u001b[39m\u001b[38;5;132;01m{\u001b[39;00mi\u001b[38;5;132;01m}\u001b[39;00m\u001b[38;5;124m val:\u001b[39m\u001b[38;5;132;01m{\u001b[39;00mtmp\u001b[38;5;132;01m}\u001b[39;00m\u001b[38;5;124m\"\u001b[39m)\n\u001b[0;32m     11\u001b[0m     \u001b[38;5;28;01mif\u001b[39;00m tmp \u001b[38;5;241m>\u001b[39m current_val:\n",
      "Cell \u001b[1;32mIn[5], line 7\u001b[0m, in \u001b[0;36mrecursive_func\u001b[1;34m(current, gamma)\u001b[0m\n\u001b[0;32m      5\u001b[0m current_val \u001b[38;5;241m=\u001b[39m reward[current]\n\u001b[0;32m      6\u001b[0m \u001b[38;5;28;01mfor\u001b[39;00m i \u001b[38;5;129;01min\u001b[39;00m \u001b[38;5;28mrange\u001b[39m(\u001b[38;5;28mlen\u001b[39m(\u001b[38;5;28mnext\u001b[39m)):\n\u001b[1;32m----> 7\u001b[0m     \u001b[38;5;28;01mif\u001b[39;00m \u001b[43mnode\u001b[49m\u001b[43m[\u001b[49m\u001b[38;5;28;43mnext\u001b[39;49m\u001b[43m[\u001b[49m\u001b[43mi\u001b[49m\u001b[43m]\u001b[49m\u001b[43m]\u001b[49m\u001b[43m[\u001b[49m\u001b[38;5;124;43m'\u001b[39;49m\u001b[38;5;124;43mvisit\u001b[39;49m\u001b[38;5;124;43m'\u001b[39;49m\u001b[43m]\u001b[49m\u001b[43m[\u001b[49m\u001b[43mi\u001b[49m\u001b[43m]\u001b[49m \u001b[38;5;241m==\u001b[39m \u001b[38;5;241m0\u001b[39m:\n\u001b[0;32m      8\u001b[0m         node[\u001b[38;5;28mnext\u001b[39m[i]][\u001b[38;5;124m'\u001b[39m\u001b[38;5;124mvisit\u001b[39m\u001b[38;5;124m'\u001b[39m][i] \u001b[38;5;241m=\u001b[39m \u001b[38;5;241m1\u001b[39m\n\u001b[0;32m      9\u001b[0m         tmp \u001b[38;5;241m=\u001b[39m recursive_func(\u001b[38;5;28mnext\u001b[39m[i], gamma\u001b[38;5;241m*\u001b[39mdecline)\n",
      "\u001b[1;31mIndexError\u001b[0m: list index out of range"
     ]
    }
   ],
   "source": [
    "recursive_func(0,1)"
   ]
  },
  {
   "cell_type": "code",
   "execution_count": null,
   "id": "e5cf59f4-0c7f-49c3-b49b-51c0a4f45fb1",
   "metadata": {},
   "outputs": [],
   "source": []
  }
 ],
 "metadata": {
  "kernelspec": {
   "display_name": "Python 3 (ipykernel)",
   "language": "python",
   "name": "python3"
  },
  "language_info": {
   "codemirror_mode": {
    "name": "ipython",
    "version": 3
   },
   "file_extension": ".py",
   "mimetype": "text/x-python",
   "name": "python",
   "nbconvert_exporter": "python",
   "pygments_lexer": "ipython3",
   "version": "3.10.2"
  }
 },
 "nbformat": 4,
 "nbformat_minor": 5
}

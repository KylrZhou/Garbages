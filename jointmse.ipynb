{
 "cells": [
  {
   "cell_type": "code",
   "execution_count": 71,
   "id": "8cef47fe-6244-4882-96a4-0e6f5f758b17",
   "metadata": {},
   "outputs": [],
   "source": [
    "import torch\n",
    "import numpy as np\n",
    "from torch.nn import MSELoss, Module\n",
    "from tqdm import tqdm"
   ]
  },
  {
   "cell_type": "code",
   "execution_count": 70,
   "id": "6667a634-1737-44ec-9c01-4a4219db437b",
   "metadata": {},
   "outputs": [],
   "source": [
    "def JointMSE(output, target, target_weight=None):\n",
    "    criterion = MSELoss()\n",
    "    batch_size = output.shape[0]\n",
    "    num_joints = output.shape[1]\n",
    "    heatmaps_pred = output.reshape((batch_size, num_joints, -1)).split(1, 1)\n",
    "    heatmaps_gt = target.reshape((batch_size, num_joints, -1)).split(1, 1)\n",
    "    loss = 0\n",
    "\n",
    "    for idx in range(num_joints):\n",
    "        heatmap_pred = heatmaps_pred[idx].squeeze()\n",
    "        heatmap_gt = heatmaps_gt[idx].squeeze()\n",
    "        if target_weight is not None:\n",
    "            loss += 0.5 * criterion(heatmap_pred.mul(target_weight[:, idx]),\n",
    "                                    heatmap_gt.mul(target_weight[:, idx]))\n",
    "        else:\n",
    "            loss += 0.5 * criterion(heatmap_pred, heatmap_gt)\n",
    "    \n",
    "    return loss / num_joints"
   ]
  },
  {
   "cell_type": "code",
   "execution_count": 42,
   "id": "10d8035c-3f4d-4cdb-a6ae-e6fda4fea8a7",
   "metadata": {},
   "outputs": [],
   "source": [
    "class JointsMSELoss(Module):\n",
    "    def __init__(self, use_target_weight=False):\n",
    "        super(JointsMSELoss, self).__init__()\n",
    "        self.criterion = MSELoss(reduction='mean')\n",
    "        self.use_target_weight = use_target_weight\n",
    "\n",
    "    def forward(self, output, target, target_weight=None):\n",
    "        batch_size = output.shape[0]\n",
    "        num_joints = output.shape[1]\n",
    "        heatmaps_pred = output.reshape((batch_size, num_joints, -1)).split(1, 1)\n",
    "        heatmaps_gt = target.reshape((batch_size, num_joints, -1)).split(1, 1)\n",
    "        loss = 0\n",
    "\n",
    "        for idx in range(num_joints):\n",
    "            heatmap_pred = heatmaps_pred[idx].squeeze()\n",
    "            heatmap_gt = heatmaps_gt[idx].squeeze()\n",
    "            if self.use_target_weight:\n",
    "                if target_weight is None:\n",
    "                    raise NameError\n",
    "                loss += 0.5 * self.criterion(\n",
    "                    heatmap_pred.mul(target_weight[:, idx]),\n",
    "                    heatmap_gt.mul(target_weight[:, idx])\n",
    "                )\n",
    "            else:\n",
    "                loss += 0.5 * self.criterion(heatmap_pred, heatmap_gt)\n",
    "\n",
    "        return loss / num_joints"
   ]
  },
  {
   "cell_type": "code",
   "execution_count": 43,
   "id": "3d47f288-c698-45cc-918f-76a5fdc2e1be",
   "metadata": {},
   "outputs": [],
   "source": [
    "crit = JointsMSELoss()"
   ]
  },
  {
   "cell_type": "code",
   "execution_count": 75,
   "id": "69325c27-7258-4923-98e8-0f16965612b0",
   "metadata": {},
   "outputs": [
    {
     "name": "stderr",
     "output_type": "stream",
     "text": [
      "100%|███████████████████████████████████████████████████████████████████████████| 100/100 [00:19<00:00,  5.15it/s]"
     ]
    },
    {
     "name": "stdout",
     "output_type": "stream",
     "text": [
      "tensor(1.0011)\n"
     ]
    },
    {
     "name": "stderr",
     "output_type": "stream",
     "text": [
      "\n"
     ]
    }
   ],
   "source": [
    "mxx = 0\n",
    "for i in tqdm(range(100)):\n",
    "    aa = torch.randn(256, 17, 64, 48)\n",
    "    bb = torch.randn(256, 17, 64, 48)\n",
    "    mxx = max(mxx, crit(aa, bb))\n",
    "print(mxx)"
   ]
  },
  {
   "cell_type": "code",
   "execution_count": 62,
   "id": "536cf08e-244a-48a4-8141-6289e826da89",
   "metadata": {},
   "outputs": [],
   "source": [
    "A = np.zeros((14, 17, 64, 48))\n",
    "A[0][0][1][1] = 1\n",
    "A[1][0][32][24] = 1\n",
    "A[2][0][1][1] = 1\n",
    "A[3][0][32][24] = 1\n",
    "A[4][0][1][1] = 1\n",
    "A[5][0][32][24] = 1\n",
    "A[6][0][1][1] = 1\n",
    "A[7][0][32][24] = 1\n",
    "A[8][0][1][1] = 1\n",
    "A[9][0][32][24] = 1\n",
    "A[10][0][1][1] = 1\n",
    "A[11][0][32][24] = 1\n",
    "A[12][0][1][1] = 1\n",
    "A[13][0][32][24] = 1\n",
    "A = torch.tensor(A, dtype=torch.float32)\n",
    "B = np.zeros((14, 17, 64, 48))\n",
    "B[0][0][63][44] = 1\n",
    "B = torch.tensor(B, dtype=torch.float32)"
   ]
  },
  {
   "cell_type": "code",
   "execution_count": 68,
   "id": "c6a5b2e2-8d13-49a5-8907-10d55bca19cc",
   "metadata": {},
   "outputs": [],
   "source": [
    "L = crit(A,B)"
   ]
  },
  {
   "cell_type": "code",
   "execution_count": 69,
   "id": "f283c301-448b-438c-ac26-0f309c596f58",
   "metadata": {},
   "outputs": [
    {
     "name": "stdout",
     "output_type": "stream",
     "text": [
      "tensor(1.0258e-05)\n"
     ]
    }
   ],
   "source": [
    "print(L)"
   ]
  },
  {
   "cell_type": "code",
   "execution_count": 56,
   "id": "bb1980ca-5356-4ca1-84b2-42d8e71d255c",
   "metadata": {},
   "outputs": [
    {
     "ename": "RuntimeError",
     "evalue": "element 0 of tensors does not require grad and does not have a grad_fn",
     "output_type": "error",
     "traceback": [
      "\u001b[0;31m---------------------------------------------------------------------------\u001b[0m",
      "\u001b[0;31mRuntimeError\u001b[0m                              Traceback (most recent call last)",
      "Cell \u001b[0;32mIn [56], line 1\u001b[0m\n\u001b[0;32m----> 1\u001b[0m \u001b[43mL\u001b[49m\u001b[38;5;241;43m.\u001b[39;49m\u001b[43mbackward\u001b[49m\u001b[43m(\u001b[49m\u001b[43m)\u001b[49m\n",
      "File \u001b[0;32m~/.local/lib/python3.10/site-packages/torch/_tensor.py:487\u001b[0m, in \u001b[0;36mTensor.backward\u001b[0;34m(self, gradient, retain_graph, create_graph, inputs)\u001b[0m\n\u001b[1;32m    477\u001b[0m \u001b[38;5;28;01mif\u001b[39;00m has_torch_function_unary(\u001b[38;5;28mself\u001b[39m):\n\u001b[1;32m    478\u001b[0m     \u001b[38;5;28;01mreturn\u001b[39;00m handle_torch_function(\n\u001b[1;32m    479\u001b[0m         Tensor\u001b[38;5;241m.\u001b[39mbackward,\n\u001b[1;32m    480\u001b[0m         (\u001b[38;5;28mself\u001b[39m,),\n\u001b[0;32m   (...)\u001b[0m\n\u001b[1;32m    485\u001b[0m         inputs\u001b[38;5;241m=\u001b[39minputs,\n\u001b[1;32m    486\u001b[0m     )\n\u001b[0;32m--> 487\u001b[0m \u001b[43mtorch\u001b[49m\u001b[38;5;241;43m.\u001b[39;49m\u001b[43mautograd\u001b[49m\u001b[38;5;241;43m.\u001b[39;49m\u001b[43mbackward\u001b[49m\u001b[43m(\u001b[49m\n\u001b[1;32m    488\u001b[0m \u001b[43m    \u001b[49m\u001b[38;5;28;43mself\u001b[39;49m\u001b[43m,\u001b[49m\u001b[43m \u001b[49m\u001b[43mgradient\u001b[49m\u001b[43m,\u001b[49m\u001b[43m \u001b[49m\u001b[43mretain_graph\u001b[49m\u001b[43m,\u001b[49m\u001b[43m \u001b[49m\u001b[43mcreate_graph\u001b[49m\u001b[43m,\u001b[49m\u001b[43m \u001b[49m\u001b[43minputs\u001b[49m\u001b[38;5;241;43m=\u001b[39;49m\u001b[43minputs\u001b[49m\n\u001b[1;32m    489\u001b[0m \u001b[43m\u001b[49m\u001b[43m)\u001b[49m\n",
      "File \u001b[0;32m~/.local/lib/python3.10/site-packages/torch/autograd/__init__.py:197\u001b[0m, in \u001b[0;36mbackward\u001b[0;34m(tensors, grad_tensors, retain_graph, create_graph, grad_variables, inputs)\u001b[0m\n\u001b[1;32m    192\u001b[0m     retain_graph \u001b[38;5;241m=\u001b[39m create_graph\n\u001b[1;32m    194\u001b[0m \u001b[38;5;66;03m# The reason we repeat same the comment below is that\u001b[39;00m\n\u001b[1;32m    195\u001b[0m \u001b[38;5;66;03m# some Python versions print out the first line of a multi-line function\u001b[39;00m\n\u001b[1;32m    196\u001b[0m \u001b[38;5;66;03m# calls in the traceback and some print out the last line\u001b[39;00m\n\u001b[0;32m--> 197\u001b[0m \u001b[43mVariable\u001b[49m\u001b[38;5;241;43m.\u001b[39;49m\u001b[43m_execution_engine\u001b[49m\u001b[38;5;241;43m.\u001b[39;49m\u001b[43mrun_backward\u001b[49m\u001b[43m(\u001b[49m\u001b[43m  \u001b[49m\u001b[38;5;66;43;03m# Calls into the C++ engine to run the backward pass\u001b[39;49;00m\n\u001b[1;32m    198\u001b[0m \u001b[43m    \u001b[49m\u001b[43mtensors\u001b[49m\u001b[43m,\u001b[49m\u001b[43m \u001b[49m\u001b[43mgrad_tensors_\u001b[49m\u001b[43m,\u001b[49m\u001b[43m \u001b[49m\u001b[43mretain_graph\u001b[49m\u001b[43m,\u001b[49m\u001b[43m \u001b[49m\u001b[43mcreate_graph\u001b[49m\u001b[43m,\u001b[49m\u001b[43m \u001b[49m\u001b[43minputs\u001b[49m\u001b[43m,\u001b[49m\n\u001b[1;32m    199\u001b[0m \u001b[43m    \u001b[49m\u001b[43mallow_unreachable\u001b[49m\u001b[38;5;241;43m=\u001b[39;49m\u001b[38;5;28;43;01mTrue\u001b[39;49;00m\u001b[43m,\u001b[49m\u001b[43m \u001b[49m\u001b[43maccumulate_grad\u001b[49m\u001b[38;5;241;43m=\u001b[39;49m\u001b[38;5;28;43;01mTrue\u001b[39;49;00m\u001b[43m)\u001b[49m\n",
      "\u001b[0;31mRuntimeError\u001b[0m: element 0 of tensors does not require grad and does not have a grad_fn"
     ]
    }
   ],
   "source": [
    "L.backward()"
   ]
  },
  {
   "cell_type": "code",
   "execution_count": null,
   "id": "f8cdb8f9-d69e-4172-b6e1-918e8c1bc92a",
   "metadata": {},
   "outputs": [],
   "source": []
  }
 ],
 "metadata": {
  "kernelspec": {
   "display_name": "Python 3 (ipykernel)",
   "language": "python",
   "name": "python3"
  },
  "language_info": {
   "codemirror_mode": {
    "name": "ipython",
    "version": 3
   },
   "file_extension": ".py",
   "mimetype": "text/x-python",
   "name": "python",
   "nbconvert_exporter": "python",
   "pygments_lexer": "ipython3",
   "version": "3.10.8"
  }
 },
 "nbformat": 4,
 "nbformat_minor": 5
}
